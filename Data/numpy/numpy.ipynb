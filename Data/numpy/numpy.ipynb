{
 "cells": [
  {
   "cell_type": "markdown",
   "metadata": {},
   "source": [
    "### 1.ndarray 성능확인\n"
   ]
  },
  {
   "cell_type": "code",
   "execution_count": null,
   "metadata": {},
   "outputs": [],
   "source": [
    "# [1] numpy Vectorizing 연산 원리 - Python with Loop\n",
    "A = [1, 2, 3]\n",
    "B = [4, 5, 6]\n",
    "C = []\n",
    "for a, b in zip(A, B):\n",
    "  C.append(a + b)\n",
    "\n",
    "print(C)"
   ]
  },
  {
   "cell_type": "code",
   "execution_count": 1,
   "metadata": {},
   "outputs": [
    {
     "name": "stdout",
     "output_type": "stream",
     "text": [
      "[5 7 9]\n"
     ]
    }
   ],
   "source": [
    "# [2] numpy Vectorizing 연산 원리 - Python with Numpy\n",
    "import numpy as np\n",
    "A = np.array([1, 2, 3])\n",
    "B = np.array([4, 5, 6])\n",
    "C = A + B\n",
    "print(C)"
   ]
  },
  {
   "cell_type": "code",
   "execution_count": 3,
   "metadata": {},
   "outputs": [],
   "source": [
    "# [3] numpy와 list의 성능 차이 확인을 위한 함수 작성\n",
    "# a 1000000 행, 4 열 - list\n",
    "import numpy as np\n",
    "a = [[ 1, 2, 3, 4 ] for _ in range(1000000)]\n",
    "b = np.array(a) # ndarray\n",
    "\n",
    "def exchange_list(a):\n",
    "  c = []\n",
    "  for x in a:\n",
    "      x[2], x[3], x[0], x[1] = x\n",
    "      c.append(x)\n",
    "  return c\n",
    "\n",
    "def exchange_ndarray(a):\n",
    "   return a[ : ,[2, 3, 0, 1]]"
   ]
  },
  {
   "cell_type": "code",
   "execution_count": 4,
   "metadata": {},
   "outputs": [
    {
     "name": "stdout",
     "output_type": "stream",
     "text": [
      "[[1, 2, 3, 4], [1, 2, 3, 4]]\n",
      "[[1 2 3 4]\n",
      " [1 2 3 4]]\n"
     ]
    }
   ],
   "source": [
    "# [4] a, b 배열의 확인\n",
    "print(a[:2], b[:2], sep='\\n')"
   ]
  },
  {
   "cell_type": "code",
   "execution_count": 5,
   "metadata": {},
   "outputs": [
    {
     "name": "stdout",
     "output_type": "stream",
     "text": [
      "[[3, 4, 1, 2], [3, 4, 1, 2]]\n",
      "[[3 4 1 2]\n",
      " [3 4 1 2]]\n"
     ]
    }
   ],
   "source": [
    "# [5] numpy와 list의 성능 차이 확인을 위한 함수 실행\n",
    "c = exchange_list(a)\n",
    "d = exchange_ndarray(b)\n",
    "print(c[:2], d[:2], sep='\\n')"
   ]
  },
  {
   "cell_type": "code",
   "execution_count": 6,
   "metadata": {},
   "outputs": [
    {
     "name": "stdout",
     "output_type": "stream",
     "text": [
      "75.8 ms ± 4.33 ms per loop (mean ± std. dev. of 7 runs, 10 loops each)\n"
     ]
    }
   ],
   "source": [
    "# [6] list를 사용했을 때의 성능 확인\n",
    "%timeit exchange_list(a)"
   ]
  },
  {
   "cell_type": "code",
   "execution_count": 7,
   "metadata": {},
   "outputs": [
    {
     "name": "stdout",
     "output_type": "stream",
     "text": [
      "7.35 ms ± 714 µs per loop (mean ± std. dev. of 7 runs, 100 loops each)\n"
     ]
    }
   ],
   "source": [
    "# [7] numpy 배열을 사용했을 때의 성능 확인\n",
    "%timeit exchange_ndarray(b)"
   ]
  },
  {
   "cell_type": "code",
   "execution_count": null,
   "metadata": {},
   "outputs": [],
   "source": [
    "# [8-1] 데이터에 비해 준비한 메모리가 작다\n",
    "a = np.array([178,216,128,427,500], dtype=np.int8 )\n",
    "print(a.ndim, a.shape, a.dtype)\n",
    "print(a)\n",
    "\n",
    "# [8-2] 데이터에 크기에 맞춘 메모리 사용\n",
    "a = np.array([178,216,128,427,500], dtype=np.int16 )\n",
    "print(a.ndim, a.shape, a.dtype)\n",
    "print(a)"
   ]
  },
  {
   "cell_type": "code",
   "execution_count": 8,
   "metadata": {},
   "outputs": [
    {
     "name": "stdout",
     "output_type": "stream",
     "text": [
      "(2, 2, 4) 3 int32 16 4 (32, 16, 4)\n"
     ]
    }
   ],
   "source": [
    "# [9] numpy method 요약\n",
    "A=np.array([[[12,25,34,21],[345,23,13,622]],[[12,25,34,21],[345,23,13,622]]])\n",
    "print(A.shape,A.ndim,A.dtype,A.size,A.itemsize,A.strides)"
   ]
  },
  {
   "cell_type": "code",
   "execution_count": 9,
   "metadata": {},
   "outputs": [
    {
     "name": "stdout",
     "output_type": "stream",
     "text": [
      "a.ndim      2\n",
      "a.shape     (2, 4)\n",
      "a.size      8\n",
      "a.dtype     int32\n",
      "a.itemsize  4\n",
      "a.strides   (16, 4)\n"
     ]
    }
   ],
   "source": [
    "# [10] print array information\n",
    "def printInfo(a):\n",
    "    data = ['a.ndim', 'a.shape', 'a.size', 'a.dtype', 'a.itemsize', 'a.strides']\n",
    "    for x in data:\n",
    "        print('%-11s' % x, eval(x))\n",
    "\n",
    "a = np.array([[0,1,2,3],[3,4,5,16]], dtype=np.int32) #한 정수당 4바이트(1바이트당 8비트)\n",
    "printInfo(a)\n",
    "#print(a.ndim, a.shape, a.size, a.dtype, a.itemsize, a.strides)"
   ]
  },
  {
   "cell_type": "markdown",
   "metadata": {},
   "source": [
    "##### 2) np.arange 사용"
   ]
  },
  {
   "cell_type": "code",
   "execution_count": 10,
   "metadata": {},
   "outputs": [],
   "source": [
    "def printary(*a):\n",
    "    for x in a:\n",
    "        print(f'{type(x)}\\n{x.dtype}\\n{x}', end='\\n\\n')\n",
    "\n",
    "    print(\"-\" * 30)"
   ]
  },
  {
   "cell_type": "code",
   "execution_count": 11,
   "metadata": {},
   "outputs": [
    {
     "name": "stdout",
     "output_type": "stream",
     "text": [
      "<class 'numpy.ndarray'>\n",
      "int32\n",
      "[0 1 2 3 4]\n",
      "\n",
      "<class 'numpy.ndarray'>\n",
      "int32\n",
      "[1 3 5 7 9]\n",
      "\n",
      "<class 'numpy.ndarray'>\n",
      "float64\n",
      "[1.  1.1 1.2 1.3 1.4 1.5 1.6 1.7 1.8 1.9]\n",
      "\n",
      "------------------------------\n"
     ]
    }
   ],
   "source": [
    "# [11] np.arange의 사용\n",
    "# np.arange(stop:number, dtype=None)\n",
    "# np.arange(start, stop)\n",
    "# np.arange(start, stop, step)\n",
    "a = np.arange(5)\n",
    "b = np.arange(1, 10, 2)\n",
    "c = np.arange(1, 2, 0.1) #, dtype=np.float64)\n",
    "printary(a, b, c)"
   ]
  },
  {
   "cell_type": "markdown",
   "metadata": {},
   "source": [
    "##### 3) np.linspace 사용"
   ]
  },
  {
   "cell_type": "code",
   "execution_count": null,
   "metadata": {},
   "outputs": [],
   "source": [
    "# [12] np.linspace(start:array_like, stop, num=50, endpoint=True, retstep=False, dtype=None)\n",
    "a = np.linspace(1, 5, 9) # 1~5사이 9개 숫자(5포함)\n",
    "b = np.linspace(1, 5, 10, endpoint=False) # 1부터 5까지 10개 및 마지막 숫자 미포함\n",
    "c,d = np.linspace(1, 5, 9, retstep=True) # d는 step임\n",
    "print(a, b, c,d, sep=\"\\n\")"
   ]
  },
  {
   "cell_type": "markdown",
   "metadata": {},
   "source": [
    "##### 4) random 사용"
   ]
  },
  {
   "cell_type": "code",
   "execution_count": null,
   "metadata": {},
   "outputs": [],
   "source": [
    "# [13] numpy 출력 옵션 조절\n",
    "np.set_printoptions(threshold=999, # 999개까지는 생략없이 보여줘라\n",
    "                    suppress=True, # 소수점 표현\n",
    "                    precision=4,   # 소수점 4자리까지\n",
    "                    edgeitems=3)   # 생략했다면 위아래왼오 3칸까지는 보여줘"
   ]
  },
  {
   "cell_type": "code",
   "execution_count": 13,
   "metadata": {},
   "outputs": [],
   "source": [
    "# [14]배열 출력 함수\n",
    "def printary(*a):\n",
    "    for x in a :\n",
    "        print(f\"shape : {x.shape}\")\n",
    "        print(f\"array : %s{x} \" % ('' if x.ndim == 1 else '\\n'))\n",
    "        print(\"mean  : %.3f, std : %.3f\" % (x.mean(), x.std()))\n",
    "        print(\"-\" * 30)"
   ]
  },
  {
   "cell_type": "code",
   "execution_count": null,
   "metadata": {},
   "outputs": [],
   "source": [
    "# [15] np.random.rand(d0, d1, ...,dn)\n",
    "# 0~1 사이의 균일 분포로 실수 난수 배열 생성\n",
    "# d0, d1, ..., dn : 배열의 shape을 의미하는 정수\n",
    "a = np.random.rand(5) # 0~1사이 양수값, 균일분포\n",
    "b = np.random.rand(2, 2, 3) # rand는 n차원\n",
    "printary(a, b)"
   ]
  },
  {
   "cell_type": "code",
   "execution_count": null,
   "metadata": {},
   "outputs": [],
   "source": [
    "# [16] np.random.randint(e, size=n)\n",
    "# np.random.randint(s, e, size=n)\n",
    "# 0~e-1, s~e-1 범위의 값을 갖는 균일 분포의 정수 난수 생성\n",
    "# size : 정수(1차원), tuple(1차원 이상)로 shape 지정\n",
    "a = np.random.randint(10, size=(5,))\n",
    "b = np.random.randint(50, 100, (2,4))\n",
    "printary(a, b)"
   ]
  },
  {
   "cell_type": "code",
   "execution_count": null,
   "metadata": {},
   "outputs": [],
   "source": [
    "# [17] np.random.randn(d0, d1, ... dn)\n",
    "# 평균 0, 표준편차 1을 갖는 가우시안 표준 정규 분포로 난수 배열 생성(음수 포함)\n",
    "a = np.random.randn(5) #정규분포\n",
    "b = np.random.randn(2, 5,3) #차원 rand랑 비슷함\n",
    "printary(a, b)"
   ]
  },
  {
   "cell_type": "code",
   "execution_count": null,
   "metadata": {},
   "outputs": [],
   "source": [
    "# [18] np.random.normal(평균, 표준편차, size)\n",
    "# 생략하면 평균=0, 표준편차=1, size=1이 됨\n",
    "a = np.random.normal(2, 3, (100, 20)) # 평균, 표준편차, 사이즈  <-> randint는 시작,끝,사이즈\n",
    "printary(a)"
   ]
  },
  {
   "cell_type": "code",
   "execution_count": 14,
   "metadata": {},
   "outputs": [
    {
     "name": "stdout",
     "output_type": "stream",
     "text": [
      "shape : (10,)\n",
      "array : [7 3 9 1 4 0 5 6 2 8] \n",
      "mean  : 4.500, std : 2.872\n",
      "------------------------------\n",
      "shape : (7,)\n",
      "array : [3 1 3 1 4 3 5] \n",
      "mean  : 2.857, std : 1.355\n",
      "------------------------------\n",
      "shape : (4, 3)\n",
      "array : \n",
      "[[1 2 3]\n",
      " [3 2 1]\n",
      " [4 5 6]\n",
      " [7 8 9]] \n",
      "mean  : 4.250, std : 2.618\n",
      "------------------------------\n"
     ]
    }
   ],
   "source": [
    "# [19] permutation 사용 배열 생성\n",
    "#np.random.permutation(e) : 0 ~ e-1 값을 갖는 정수의 무작위 순서 1차원 배열 생성\n",
    "#np.random.permutation(c) : c 요소들에 대해 무작위 순서로 변경된 1차원 배열 생성\n",
    "# e : 정수, c : array_like 객체\n",
    "a = np.random.permutation(10)\n",
    "data = np.array([1,3,4,5,3,1,3])\n",
    "b = np.random.permutation(data)\n",
    "mylist = [[1,2,3],[4,5,6],[7,8,9],[3,2,1]]\n",
    "c = np.random.permutation(mylist)\n",
    "printary(a, b, c)"
   ]
  },
  {
   "cell_type": "markdown",
   "metadata": {},
   "source": [
    "##### 5) 특정값으로 채워진 ndarray생성"
   ]
  },
  {
   "cell_type": "code",
   "execution_count": null,
   "metadata": {},
   "outputs": [],
   "source": [
    "def printary(*a):\n",
    "    for x in a:\n",
    "        print(f'{x.dtype}\\n{x}')\n",
    "    print(\"-\" * 30)"
   ]
  },
  {
   "cell_type": "code",
   "execution_count": null,
   "metadata": {},
   "outputs": [],
   "source": [
    "# [20] np.zeros(shape, dtype=float64)\n",
    "#shape: 정수(1차원), tuple(1차원 이상)\n",
    "a = np.zeros(10, dtype = np.int32)\n",
    "b = np.zeros(mshape)\n",
    "printary(a, b)"
   ]
  },
  {
   "cell_type": "code",
   "execution_count": null,
   "metadata": {},
   "outputs": [],
   "source": [
    "# [21] np.empty(shape, dtype=float64)\n",
    "a = np.empty(10, dtype=np.int32) # 별도로 채우기를 하지 말라\n",
    "b = np.empty(mshape)\n",
    "printary(a, b)"
   ]
  },
  {
   "cell_type": "code",
   "execution_count": null,
   "metadata": {},
   "outputs": [],
   "source": [
    "# [22] np.ones(shape,dtype=float64)\n",
    "#np.full(shape, value, dtype=None)\n",
    "a = np.ones(mshape)\n",
    "b = np.full(mshape, 5.0)\n",
    "printary(a, b)"
   ]
  },
  {
   "cell_type": "code",
   "execution_count": null,
   "metadata": {},
   "outputs": [],
   "source": [
    "# [23] np.eye(N, M=None, k=0, dtype=float64)\n",
    "a = np.eye(3) # 3x3 배열 만든후 대각행렬\n",
    "b = np.eye(3, 5, 2) # 3x5 배열 2칸부터 만든후 대각행렬\n",
    "c = np.eye(3, 5, -1)\n",
    "printary(a, b, c)"
   ]
  },
  {
   "cell_type": "code",
   "execution_count": null,
   "metadata": {},
   "outputs": [],
   "source": [
    "# [24] np.zeros_like(array_like, dtype=None)\n",
    "a = np.zeros_like([1,2,3,5])\n",
    "b = np.empty_like([[1,2,3,22],[12,34,25,35]])\n",
    "printary(a, b)"
   ]
  },
  {
   "cell_type": "code",
   "execution_count": null,
   "metadata": {},
   "outputs": [],
   "source": [
    "# [25] np.ones_like, np.full_like\n",
    "a = np.ones_like([[1,2,3],[4,5,6]], dtype=np.float32)\n",
    "b = np.full_like(np.arange(5), 5)\n",
    "printary(a, b)"
   ]
  }
 ],
 "metadata": {
  "kernelspec": {
   "display_name": "Python 3",
   "language": "python",
   "name": "python3"
  },
  "language_info": {
   "codemirror_mode": {
    "name": "ipython",
    "version": 3
   },
   "file_extension": ".py",
   "mimetype": "text/x-python",
   "name": "python",
   "nbconvert_exporter": "python",
   "pygments_lexer": "ipython3",
   "version": "3.11.4"
  }
 },
 "nbformat": 4,
 "nbformat_minor": 2
}
