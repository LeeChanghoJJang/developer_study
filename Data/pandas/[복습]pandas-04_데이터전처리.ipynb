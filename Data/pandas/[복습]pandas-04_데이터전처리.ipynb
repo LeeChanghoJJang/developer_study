{
 "cells": [
  {
   "cell_type": "markdown",
   "metadata": {},
   "source": [
    "### 실제 데이터를 Pandas를 활용해 다루기"
   ]
  },
  {
   "cell_type": "code",
   "execution_count": 6,
   "metadata": {},
   "outputs": [
    {
     "data": {
      "text/plain": [
       "시군구명\n",
       "강남구     0.100149\n",
       "강동구     0.086376\n",
       "서초구     0.064637\n",
       "송파구     0.060156\n",
       "강서구     0.050116\n",
       "마포구     0.048540\n",
       "양천구     0.043976\n",
       "영등포구    0.039330\n",
       "노원구     0.038002\n",
       "중구      0.035430\n",
       "동대문구    0.035181\n",
       "성북구     0.034517\n",
       "관악구     0.034268\n",
       "은평구     0.032775\n",
       "구로구     0.032692\n",
       "금천구     0.031613\n",
       "동작구     0.030617\n",
       "광진구     0.030368\n",
       "서대문구    0.030037\n",
       "중랑구     0.025141\n",
       "성동구     0.024975\n",
       "종로구     0.024560\n",
       "용산구     0.023150\n",
       "강북구     0.021822\n",
       "도봉구     0.021573\n",
       "Name: proportion, dtype: float64"
      ]
     },
     "execution_count": 6,
     "metadata": {},
     "output_type": "execute_result"
    }
   ],
   "source": [
    "# [4-1] 시군구별 빵집의 분포도(normalize로 비율 및 dropna로 결측치 제거)\n",
    "import pandas as pd\n",
    "df= pd.read_csv('data/bread_after.csv',encoding='cp949')\n",
    "df['시군구명'].value_counts(normalize=True,dropna=True)"
   ]
  },
  {
   "cell_type": "markdown",
   "metadata": {},
   "source": [
    "### 오류 없이 파일 읽어오기\n",
    "1. encoding= cp949는 한글이 포함되어 있는 경우 encoding 방식을 지정\n",
    "2. low_memory =False는 대용량의 데이터를 불러오는 경우 각 칼럼의 데이터 타입(dtype)을 추측하는 것이 매우 많은 메모리를 사용하기 때문에 대용량의 데이터를 불러올때 메모리 에러가 발생하는 경우 이를 False로 설정"
   ]
  },
  {
   "cell_type": "code",
   "execution_count": 12,
   "metadata": {},
   "outputs": [],
   "source": [
    "# [4-2] 제과점 파일 불러오기\n",
    "# column에 여러가 나지 않기 위해 여러 타입의 데이터가 저장되어 있는 경우,\n",
    "# dtype={'건물소유구분명': object, '전통업소지정번호': object} 으로 데이터 타입 지정해줄 것\n",
    "df=pd.read_csv('./data/bread_data.csv',encoding='cp949',dtype={'건물소유구분명': object, '전통업소지정번호': object})"
   ]
  },
  {
   "cell_type": "code",
   "execution_count": 15,
   "metadata": {},
   "outputs": [
    {
     "data": {
      "text/html": [
       "<div>\n",
       "<style scoped>\n",
       "    .dataframe tbody tr th:only-of-type {\n",
       "        vertical-align: middle;\n",
       "    }\n",
       "\n",
       "    .dataframe tbody tr th {\n",
       "        vertical-align: top;\n",
       "    }\n",
       "\n",
       "    .dataframe thead th {\n",
       "        text-align: right;\n",
       "    }\n",
       "</style>\n",
       "<table border=\"1\" class=\"dataframe\">\n",
       "  <thead>\n",
       "    <tr style=\"text-align: right;\">\n",
       "      <th></th>\n",
       "      <th>index</th>\n",
       "      <th>0</th>\n",
       "    </tr>\n",
       "  </thead>\n",
       "  <tbody>\n",
       "    <tr>\n",
       "      <th>0</th>\n",
       "      <td>번호</td>\n",
       "      <td>int64</td>\n",
       "    </tr>\n",
       "    <tr>\n",
       "      <th>1</th>\n",
       "      <td>개방서비스명</td>\n",
       "      <td>object</td>\n",
       "    </tr>\n",
       "    <tr>\n",
       "      <th>2</th>\n",
       "      <td>개방서비스id</td>\n",
       "      <td>object</td>\n",
       "    </tr>\n",
       "    <tr>\n",
       "      <th>3</th>\n",
       "      <td>개방자치단체코드</td>\n",
       "      <td>int64</td>\n",
       "    </tr>\n",
       "    <tr>\n",
       "      <th>4</th>\n",
       "      <td>관리번호</td>\n",
       "      <td>object</td>\n",
       "    </tr>\n",
       "  </tbody>\n",
       "</table>\n",
       "</div>"
      ],
      "text/plain": [
       "      index       0\n",
       "0        번호   int64\n",
       "1    개방서비스명  object\n",
       "2   개방서비스id  object\n",
       "3  개방자치단체코드   int64\n",
       "4      관리번호  object"
      ]
     },
     "execution_count": 15,
     "metadata": {},
     "output_type": "execute_result"
    }
   ],
   "source": [
    "# dtypes를 출력하면 object로 변한것 확인가능\n",
    "df.dtypes.to_frame().reset_index().head()"
   ]
  },
  {
   "cell_type": "code",
   "execution_count": 16,
   "metadata": {},
   "outputs": [
    {
     "data": {
      "text/plain": [
       "상세영업상태명\n",
       "폐업    33669\n",
       "영업    19011\n",
       "Name: count, dtype: int64"
      ]
     },
     "execution_count": 16,
     "metadata": {},
     "output_type": "execute_result"
    }
   ],
   "source": [
    "# [4-2] df의 '상세영업상태명'에 대해 값별 개수를 구합니다.\n",
    "df['상세영업상태명'].value_counts(normalize=False, dropna=True)"
   ]
  },
  {
   "cell_type": "code",
   "execution_count": 17,
   "metadata": {},
   "outputs": [
    {
     "data": {
      "text/plain": [
       "폐업일자\n",
       "NaN           0.360877\n",
       "20030402.0    0.000911\n",
       "20201228.0    0.000892\n",
       "20051229.0    0.000816\n",
       "20060216.0    0.000797\n",
       "                ...   \n",
       "20000612.0    0.000019\n",
       "20031104.0    0.000019\n",
       "20010823.0    0.000019\n",
       "20040108.0    0.000019\n",
       "20210207.0    0.000019\n",
       "Name: proportion, Length: 5689, dtype: float64"
      ]
     },
     "execution_count": 17,
     "metadata": {},
     "output_type": "execute_result"
    }
   ],
   "source": [
    "# [4-2] df의 '폐업일자'에 대해 값별 비율을 구합니다.\n",
    "df['폐업일자'].value_counts(normalize=True,dropna=False)"
   ]
  },
  {
   "cell_type": "code",
   "execution_count": 18,
   "metadata": {},
   "outputs": [
    {
     "data": {
      "text/plain": [
       "상세영업상태코드\n",
       "2    0.639123\n",
       "1    0.360877\n",
       "Name: proportion, dtype: float64"
      ]
     },
     "execution_count": 18,
     "metadata": {},
     "output_type": "execute_result"
    }
   ],
   "source": [
    "# [4-3] df의 '상세영업상태코드'에 대해 값별 개수를 구합니다.\n",
    "# 1: 영업, 2: 폐업\n",
    "df['상세영업상태코드'].value_counts(normalize=True,dropna=False)"
   ]
  }
 ],
 "metadata": {
  "kernelspec": {
   "display_name": "Python 3",
   "language": "python",
   "name": "python3"
  },
  "language_info": {
   "codemirror_mode": {
    "name": "ipython",
    "version": 3
   },
   "file_extension": ".py",
   "mimetype": "text/x-python",
   "name": "python",
   "nbconvert_exporter": "python",
   "pygments_lexer": "ipython3",
   "version": "3.11.4"
  }
 },
 "nbformat": 4,
 "nbformat_minor": 2
}
